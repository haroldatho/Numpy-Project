{
  "nbformat": 4,
  "nbformat_minor": 0,
  "metadata": {
    "colab": {
      "name": "Project Numpy.ipynb",
      "provenance": []
    },
    "kernelspec": {
      "name": "python3",
      "display_name": "Python 3"
    },
    "language_info": {
      "name": "python"
    }
  },
  "cells": [
    {
      "cell_type": "code",
      "execution_count": 1,
      "metadata": {
        "id": "F95Egjokyf9B"
      },
      "outputs": [],
      "source": [
        "data_file='/content/drive/MyDrive/Colab Notebooks/Data processing projects/KAG_Conversion_Data.csv'"
      ]
    },
    {
      "cell_type": "code",
      "source": [
        "import numpy as np"
      ],
      "metadata": {
        "id": "6SNHodSs4eaZ"
      },
      "execution_count": 3,
      "outputs": []
    },
    {
      "cell_type": "code",
      "source": [
        "data = np.genfromtxt(data_file, delimiter=\",\", skip_header=1)\n",
        "\n",
        "# printing the data\n",
        "\n",
        "print(\"\\nData: \\n\\n\", data)"
      ],
      "metadata": {
        "colab": {
          "base_uri": "https://localhost:8080/"
        },
        "id": "V3wec-3V4hOW",
        "outputId": "1c666a93-3f45-4ca4-a527-c456a9522b3c"
      },
      "execution_count": 4,
      "outputs": [
        {
          "output_type": "stream",
          "name": "stdout",
          "text": [
            "\n",
            "Data: \n",
            "\n",
            " [[7.08746000e+05 9.16000000e+02 1.03916000e+05 ... 1.42999995e+00\n",
            "  2.00000000e+00 1.00000000e+00]\n",
            " [7.08749000e+05 9.16000000e+02 1.03917000e+05 ... 1.82000002e+00\n",
            "  2.00000000e+00 0.00000000e+00]\n",
            " [7.08771000e+05 9.16000000e+02 1.03920000e+05 ... 0.00000000e+00\n",
            "  1.00000000e+00 0.00000000e+00]\n",
            " ...\n",
            " [1.31441200e+06 1.17800000e+03 1.79979000e+05 ... 4.02899995e+01\n",
            "  2.00000000e+00 0.00000000e+00]\n",
            " [1.31441400e+06 1.17800000e+03 1.79981000e+05 ... 1.98710001e+02\n",
            "  8.00000000e+00 2.00000000e+00]\n",
            " [1.31441500e+06 1.17800000e+03 1.79982000e+05 ... 1.65609999e+02\n",
            "  5.00000000e+00 2.00000000e+00]]\n"
          ]
        }
      ]
    },
    {
      "cell_type": "code",
      "source": [
        "data_str = np.genfromtxt(data_file,delimiter=',',skip_header=1,dtype=str)\n",
        "data_str"
      ],
      "metadata": {
        "colab": {
          "base_uri": "https://localhost:8080/"
        },
        "id": "QW_yWvdl_9Zi",
        "outputId": "0287136c-6906-43e3-c150-9a1cff48bbcc"
      },
      "execution_count": 23,
      "outputs": [
        {
          "output_type": "execute_result",
          "data": {
            "text/plain": [
              "array([['708746', '916', '103916', ..., '1.429999948', '2', '1'],\n",
              "       ['708749', '916', '103917', ..., '1.820000023', '2', '0'],\n",
              "       ['708771', '916', '103920', ..., '0', '1', '0'],\n",
              "       ...,\n",
              "       ['1314412', '1178', '179979', ..., '40.28999949', '2', '0'],\n",
              "       ['1314414', '1178', '179981', ..., '198.7100005', '8', '2'],\n",
              "       ['1314415', '1178', '179982', ..., '165.6099987', '5', '2']],\n",
              "      dtype='<U11')"
            ]
          },
          "metadata": {},
          "execution_count": 23
        }
      ]
    },
    {
      "cell_type": "code",
      "source": [
        "print(\"\\nType of data: \\n\\n\", type(data))"
      ],
      "metadata": {
        "colab": {
          "base_uri": "https://localhost:8080/"
        },
        "id": "ffVV3f964o2X",
        "outputId": "4c86493c-e379-4a63-a7e5-058cb843757c"
      },
      "execution_count": 5,
      "outputs": [
        {
          "output_type": "stream",
          "name": "stdout",
          "text": [
            "\n",
            "Type of data: \n",
            "\n",
            " <class 'numpy.ndarray'>\n"
          ]
        }
      ]
    },
    {
      "cell_type": "code",
      "source": [
        "xyzcampaignid=data[:,1]\n",
        "print(xyzcampaignid)"
      ],
      "metadata": {
        "colab": {
          "base_uri": "https://localhost:8080/"
        },
        "id": "pq7S9CQu5Qw6",
        "outputId": "673b539c-d6dc-4900-f426-5d42309b667b"
      },
      "execution_count": 6,
      "outputs": [
        {
          "output_type": "stream",
          "name": "stdout",
          "text": [
            "[ 916.  916.  916. ... 1178. 1178. 1178.]\n"
          ]
        }
      ]
    },
    {
      "cell_type": "code",
      "source": [
        "from numpy.lib.arraysetops import unique\n",
        "unique_xyzcampaignid,count=unique(xyzcampaignid,return_counts=True)\n",
        "print(unique_xyzcampaignid)\n",
        "print(count)"
      ],
      "metadata": {
        "colab": {
          "base_uri": "https://localhost:8080/"
        },
        "id": "0v7-TF1e5ve8",
        "outputId": "e24d3e2d-07bc-416d-c7b9-e0443afec9cc"
      },
      "execution_count": 22,
      "outputs": [
        {
          "output_type": "stream",
          "name": "stdout",
          "text": [
            "[ 916.  936. 1178.]\n",
            "[ 54 464 625]\n"
          ]
        }
      ]
    },
    {
      "cell_type": "code",
      "source": [
        "len(unique_xyzcampaignid)"
      ],
      "metadata": {
        "colab": {
          "base_uri": "https://localhost:8080/"
        },
        "id": "ZjLiTPBB7rvj",
        "outputId": "f6d574dd-e59c-43ee-b912-2cc276b6897f"
      },
      "execution_count": 11,
      "outputs": [
        {
          "output_type": "execute_result",
          "data": {
            "text/plain": [
              "3"
            ]
          },
          "metadata": {},
          "execution_count": 11
        }
      ]
    },
    {
      "cell_type": "code",
      "source": [
        "xyzcampaignid_916=xyzcampaignid[xyzcampaignid==916]\n",
        "print(xyzcampaignid_916)\n",
        "len(xyzcampaignid_916)"
      ],
      "metadata": {
        "colab": {
          "base_uri": "https://localhost:8080/"
        },
        "id": "AvMeJBkV7v10",
        "outputId": "850c624c-e07d-4a5c-cf79-27f625565f47"
      },
      "execution_count": 14,
      "outputs": [
        {
          "output_type": "stream",
          "name": "stdout",
          "text": [
            "[916. 916. 916. 916. 916. 916. 916. 916. 916. 916. 916. 916. 916. 916.\n",
            " 916. 916. 916. 916. 916. 916. 916. 916. 916. 916. 916. 916. 916. 916.\n",
            " 916. 916. 916. 916. 916. 916. 916. 916. 916. 916. 916. 916. 916. 916.\n",
            " 916. 916. 916. 916. 916. 916. 916. 916. 916. 916. 916. 916.]\n"
          ]
        },
        {
          "output_type": "execute_result",
          "data": {
            "text/plain": [
              "54"
            ]
          },
          "metadata": {},
          "execution_count": 14
        }
      ]
    },
    {
      "cell_type": "code",
      "source": [
        "xyzcampaignid_936=xyzcampaignid[xyzcampaignid==936]\n",
        "print(xyzcampaignid_936)\n",
        "len(xyzcampaignid_936)"
      ],
      "metadata": {
        "colab": {
          "base_uri": "https://localhost:8080/"
        },
        "id": "mi1Wrtw982qU",
        "outputId": "2ae3d906-c120-4770-c9e5-c20a3029831c"
      },
      "execution_count": 16,
      "outputs": [
        {
          "output_type": "stream",
          "name": "stdout",
          "text": [
            "[936. 936. 936. 936. 936. 936. 936. 936. 936. 936. 936. 936. 936. 936.\n",
            " 936. 936. 936. 936. 936. 936. 936. 936. 936. 936. 936. 936. 936. 936.\n",
            " 936. 936. 936. 936. 936. 936. 936. 936. 936. 936. 936. 936. 936. 936.\n",
            " 936. 936. 936. 936. 936. 936. 936. 936. 936. 936. 936. 936. 936. 936.\n",
            " 936. 936. 936. 936. 936. 936. 936. 936. 936. 936. 936. 936. 936. 936.\n",
            " 936. 936. 936. 936. 936. 936. 936. 936. 936. 936. 936. 936. 936. 936.\n",
            " 936. 936. 936. 936. 936. 936. 936. 936. 936. 936. 936. 936. 936. 936.\n",
            " 936. 936. 936. 936. 936. 936. 936. 936. 936. 936. 936. 936. 936. 936.\n",
            " 936. 936. 936. 936. 936. 936. 936. 936. 936. 936. 936. 936. 936. 936.\n",
            " 936. 936. 936. 936. 936. 936. 936. 936. 936. 936. 936. 936. 936. 936.\n",
            " 936. 936. 936. 936. 936. 936. 936. 936. 936. 936. 936. 936. 936. 936.\n",
            " 936. 936. 936. 936. 936. 936. 936. 936. 936. 936. 936. 936. 936. 936.\n",
            " 936. 936. 936. 936. 936. 936. 936. 936. 936. 936. 936. 936. 936. 936.\n",
            " 936. 936. 936. 936. 936. 936. 936. 936. 936. 936. 936. 936. 936. 936.\n",
            " 936. 936. 936. 936. 936. 936. 936. 936. 936. 936. 936. 936. 936. 936.\n",
            " 936. 936. 936. 936. 936. 936. 936. 936. 936. 936. 936. 936. 936. 936.\n",
            " 936. 936. 936. 936. 936. 936. 936. 936. 936. 936. 936. 936. 936. 936.\n",
            " 936. 936. 936. 936. 936. 936. 936. 936. 936. 936. 936. 936. 936. 936.\n",
            " 936. 936. 936. 936. 936. 936. 936. 936. 936. 936. 936. 936. 936. 936.\n",
            " 936. 936. 936. 936. 936. 936. 936. 936. 936. 936. 936. 936. 936. 936.\n",
            " 936. 936. 936. 936. 936. 936. 936. 936. 936. 936. 936. 936. 936. 936.\n",
            " 936. 936. 936. 936. 936. 936. 936. 936. 936. 936. 936. 936. 936. 936.\n",
            " 936. 936. 936. 936. 936. 936. 936. 936. 936. 936. 936. 936. 936. 936.\n",
            " 936. 936. 936. 936. 936. 936. 936. 936. 936. 936. 936. 936. 936. 936.\n",
            " 936. 936. 936. 936. 936. 936. 936. 936. 936. 936. 936. 936. 936. 936.\n",
            " 936. 936. 936. 936. 936. 936. 936. 936. 936. 936. 936. 936. 936. 936.\n",
            " 936. 936. 936. 936. 936. 936. 936. 936. 936. 936. 936. 936. 936. 936.\n",
            " 936. 936. 936. 936. 936. 936. 936. 936. 936. 936. 936. 936. 936. 936.\n",
            " 936. 936. 936. 936. 936. 936. 936. 936. 936. 936. 936. 936. 936. 936.\n",
            " 936. 936. 936. 936. 936. 936. 936. 936. 936. 936. 936. 936. 936. 936.\n",
            " 936. 936. 936. 936. 936. 936. 936. 936. 936. 936. 936. 936. 936. 936.\n",
            " 936. 936. 936. 936. 936. 936. 936. 936. 936. 936. 936. 936. 936. 936.\n",
            " 936. 936. 936. 936. 936. 936. 936. 936. 936. 936. 936. 936. 936. 936.\n",
            " 936. 936.]\n"
          ]
        },
        {
          "output_type": "execute_result",
          "data": {
            "text/plain": [
              "464"
            ]
          },
          "metadata": {},
          "execution_count": 16
        }
      ]
    },
    {
      "cell_type": "code",
      "source": [
        "xyzcampaignid_1178=xyzcampaignid[xyzcampaignid==1178]\n",
        "print(xyzcampaignid_1178)\n",
        "len(xyzcampaignid_1178)"
      ],
      "metadata": {
        "colab": {
          "base_uri": "https://localhost:8080/"
        },
        "outputId": "a72eae6f-6da6-4d6d-bb61-87fb6a5674e6",
        "id": "qxCdZVk29wga"
      },
      "execution_count": 17,
      "outputs": [
        {
          "output_type": "stream",
          "name": "stdout",
          "text": [
            "[1178. 1178. 1178. 1178. 1178. 1178. 1178. 1178. 1178. 1178. 1178. 1178.\n",
            " 1178. 1178. 1178. 1178. 1178. 1178. 1178. 1178. 1178. 1178. 1178. 1178.\n",
            " 1178. 1178. 1178. 1178. 1178. 1178. 1178. 1178. 1178. 1178. 1178. 1178.\n",
            " 1178. 1178. 1178. 1178. 1178. 1178. 1178. 1178. 1178. 1178. 1178. 1178.\n",
            " 1178. 1178. 1178. 1178. 1178. 1178. 1178. 1178. 1178. 1178. 1178. 1178.\n",
            " 1178. 1178. 1178. 1178. 1178. 1178. 1178. 1178. 1178. 1178. 1178. 1178.\n",
            " 1178. 1178. 1178. 1178. 1178. 1178. 1178. 1178. 1178. 1178. 1178. 1178.\n",
            " 1178. 1178. 1178. 1178. 1178. 1178. 1178. 1178. 1178. 1178. 1178. 1178.\n",
            " 1178. 1178. 1178. 1178. 1178. 1178. 1178. 1178. 1178. 1178. 1178. 1178.\n",
            " 1178. 1178. 1178. 1178. 1178. 1178. 1178. 1178. 1178. 1178. 1178. 1178.\n",
            " 1178. 1178. 1178. 1178. 1178. 1178. 1178. 1178. 1178. 1178. 1178. 1178.\n",
            " 1178. 1178. 1178. 1178. 1178. 1178. 1178. 1178. 1178. 1178. 1178. 1178.\n",
            " 1178. 1178. 1178. 1178. 1178. 1178. 1178. 1178. 1178. 1178. 1178. 1178.\n",
            " 1178. 1178. 1178. 1178. 1178. 1178. 1178. 1178. 1178. 1178. 1178. 1178.\n",
            " 1178. 1178. 1178. 1178. 1178. 1178. 1178. 1178. 1178. 1178. 1178. 1178.\n",
            " 1178. 1178. 1178. 1178. 1178. 1178. 1178. 1178. 1178. 1178. 1178. 1178.\n",
            " 1178. 1178. 1178. 1178. 1178. 1178. 1178. 1178. 1178. 1178. 1178. 1178.\n",
            " 1178. 1178. 1178. 1178. 1178. 1178. 1178. 1178. 1178. 1178. 1178. 1178.\n",
            " 1178. 1178. 1178. 1178. 1178. 1178. 1178. 1178. 1178. 1178. 1178. 1178.\n",
            " 1178. 1178. 1178. 1178. 1178. 1178. 1178. 1178. 1178. 1178. 1178. 1178.\n",
            " 1178. 1178. 1178. 1178. 1178. 1178. 1178. 1178. 1178. 1178. 1178. 1178.\n",
            " 1178. 1178. 1178. 1178. 1178. 1178. 1178. 1178. 1178. 1178. 1178. 1178.\n",
            " 1178. 1178. 1178. 1178. 1178. 1178. 1178. 1178. 1178. 1178. 1178. 1178.\n",
            " 1178. 1178. 1178. 1178. 1178. 1178. 1178. 1178. 1178. 1178. 1178. 1178.\n",
            " 1178. 1178. 1178. 1178. 1178. 1178. 1178. 1178. 1178. 1178. 1178. 1178.\n",
            " 1178. 1178. 1178. 1178. 1178. 1178. 1178. 1178. 1178. 1178. 1178. 1178.\n",
            " 1178. 1178. 1178. 1178. 1178. 1178. 1178. 1178. 1178. 1178. 1178. 1178.\n",
            " 1178. 1178. 1178. 1178. 1178. 1178. 1178. 1178. 1178. 1178. 1178. 1178.\n",
            " 1178. 1178. 1178. 1178. 1178. 1178. 1178. 1178. 1178. 1178. 1178. 1178.\n",
            " 1178. 1178. 1178. 1178. 1178. 1178. 1178. 1178. 1178. 1178. 1178. 1178.\n",
            " 1178. 1178. 1178. 1178. 1178. 1178. 1178. 1178. 1178. 1178. 1178. 1178.\n",
            " 1178. 1178. 1178. 1178. 1178. 1178. 1178. 1178. 1178. 1178. 1178. 1178.\n",
            " 1178. 1178. 1178. 1178. 1178. 1178. 1178. 1178. 1178. 1178. 1178. 1178.\n",
            " 1178. 1178. 1178. 1178. 1178. 1178. 1178. 1178. 1178. 1178. 1178. 1178.\n",
            " 1178. 1178. 1178. 1178. 1178. 1178. 1178. 1178. 1178. 1178. 1178. 1178.\n",
            " 1178. 1178. 1178. 1178. 1178. 1178. 1178. 1178. 1178. 1178. 1178. 1178.\n",
            " 1178. 1178. 1178. 1178. 1178. 1178. 1178. 1178. 1178. 1178. 1178. 1178.\n",
            " 1178. 1178. 1178. 1178. 1178. 1178. 1178. 1178. 1178. 1178. 1178. 1178.\n",
            " 1178. 1178. 1178. 1178. 1178. 1178. 1178. 1178. 1178. 1178. 1178. 1178.\n",
            " 1178. 1178. 1178. 1178. 1178. 1178. 1178. 1178. 1178. 1178. 1178. 1178.\n",
            " 1178. 1178. 1178. 1178. 1178. 1178. 1178. 1178. 1178. 1178. 1178. 1178.\n",
            " 1178. 1178. 1178. 1178. 1178. 1178. 1178. 1178. 1178. 1178. 1178. 1178.\n",
            " 1178. 1178. 1178. 1178. 1178. 1178. 1178. 1178. 1178. 1178. 1178. 1178.\n",
            " 1178. 1178. 1178. 1178. 1178. 1178. 1178. 1178. 1178. 1178. 1178. 1178.\n",
            " 1178. 1178. 1178. 1178. 1178. 1178. 1178. 1178. 1178. 1178. 1178. 1178.\n",
            " 1178. 1178. 1178. 1178. 1178. 1178. 1178. 1178. 1178. 1178. 1178. 1178.\n",
            " 1178. 1178. 1178. 1178. 1178. 1178. 1178. 1178. 1178. 1178. 1178. 1178.\n",
            " 1178. 1178. 1178. 1178. 1178. 1178. 1178. 1178. 1178. 1178. 1178. 1178.\n",
            " 1178. 1178. 1178. 1178. 1178. 1178. 1178. 1178. 1178. 1178. 1178. 1178.\n",
            " 1178. 1178. 1178. 1178. 1178. 1178. 1178. 1178. 1178. 1178. 1178. 1178.\n",
            " 1178. 1178. 1178. 1178. 1178. 1178. 1178. 1178. 1178. 1178. 1178. 1178.\n",
            " 1178. 1178. 1178. 1178. 1178. 1178. 1178. 1178. 1178. 1178. 1178. 1178.\n",
            " 1178.]\n"
          ]
        },
        {
          "output_type": "execute_result",
          "data": {
            "text/plain": [
              "625"
            ]
          },
          "metadata": {},
          "execution_count": 17
        }
      ]
    },
    {
      "cell_type": "code",
      "source": [
        "age=data_str[:,3]\n",
        "print(age)"
      ],
      "metadata": {
        "colab": {
          "base_uri": "https://localhost:8080/"
        },
        "id": "KsBxVI8X99SE",
        "outputId": "7115c217-db31-40c1-a011-c857960d2d2d"
      },
      "execution_count": 24,
      "outputs": [
        {
          "output_type": "stream",
          "name": "stdout",
          "text": [
            "['30-34' '30-34' '30-34' ... '45-49' '45-49' '45-49']\n"
          ]
        }
      ]
    },
    {
      "cell_type": "code",
      "source": [
        "unique(age)"
      ],
      "metadata": {
        "colab": {
          "base_uri": "https://localhost:8080/"
        },
        "id": "bzh5wSUH-m1i",
        "outputId": "ca9f4347-eda3-4698-d492-ae57d78801e1"
      },
      "execution_count": 25,
      "outputs": [
        {
          "output_type": "execute_result",
          "data": {
            "text/plain": [
              "array(['30-34', '35-39', '40-44', '45-49'], dtype='<U11')"
            ]
          },
          "metadata": {},
          "execution_count": 25
        }
      ]
    },
    {
      "cell_type": "code",
      "source": [
        "spent=data[:,8]\n",
        "print(spent)"
      ],
      "metadata": {
        "colab": {
          "base_uri": "https://localhost:8080/"
        },
        "id": "hh3FSynYA9Xc",
        "outputId": "3dec2557-a7bd-4d42-d99d-a9588c3a57a6"
      },
      "execution_count": 26,
      "outputs": [
        {
          "output_type": "stream",
          "name": "stdout",
          "text": [
            "[  1.42999995   1.82000002   0.         ...  40.28999949 198.7100005\n",
            " 165.6099987 ]\n"
          ]
        }
      ]
    },
    {
      "cell_type": "code",
      "source": [
        "spent.mean()"
      ],
      "metadata": {
        "colab": {
          "base_uri": "https://localhost:8080/"
        },
        "id": "E0dRGoxgBXUJ",
        "outputId": "8e355cea-f08f-4797-e34a-6fa3c04af40a"
      },
      "execution_count": 28,
      "outputs": [
        {
          "output_type": "execute_result",
          "data": {
            "text/plain": [
              "51.36065613141295"
            ]
          },
          "metadata": {},
          "execution_count": 28
        }
      ]
    },
    {
      "cell_type": "code",
      "source": [
        "spent.min()"
      ],
      "metadata": {
        "colab": {
          "base_uri": "https://localhost:8080/"
        },
        "id": "TVLr4AmNBhQ_",
        "outputId": "d1366fee-3abc-49d6-e64c-3331bfc8c890"
      },
      "execution_count": 29,
      "outputs": [
        {
          "output_type": "execute_result",
          "data": {
            "text/plain": [
              "0.0"
            ]
          },
          "metadata": {},
          "execution_count": 29
        }
      ]
    },
    {
      "cell_type": "code",
      "source": [
        "spent.max()"
      ],
      "metadata": {
        "colab": {
          "base_uri": "https://localhost:8080/"
        },
        "id": "Yn3O4dJfBpGD",
        "outputId": "ce688308-1dab-4ca6-d4d9-09f997b1a423"
      },
      "execution_count": 30,
      "outputs": [
        {
          "output_type": "execute_result",
          "data": {
            "text/plain": [
              "639.9499981"
            ]
          },
          "metadata": {},
          "execution_count": 30
        }
      ]
    },
    {
      "cell_type": "code",
      "source": [
        "clicks=data[:,7]\n",
        "print(clicks)\n",
        "max_clicks=clicks.max()\n",
        "print(max_clicks)"
      ],
      "metadata": {
        "colab": {
          "base_uri": "https://localhost:8080/"
        },
        "id": "x6PKLFqOB0Cg",
        "outputId": "2e73fbd4-b568-4212-9cbe-edc4d60956ee"
      },
      "execution_count": 44,
      "outputs": [
        {
          "output_type": "stream",
          "name": "stdout",
          "text": [
            "[  1.   2.   0. ...  28. 135. 114.]\n",
            "421.0\n"
          ]
        }
      ]
    },
    {
      "cell_type": "code",
      "source": [
        "id_maxclicks=data[clicks==421][:,0]\n",
        "print(id_maxclicks)"
      ],
      "metadata": {
        "colab": {
          "base_uri": "https://localhost:8080/"
        },
        "id": "bWekFVr2CQoQ",
        "outputId": "ecbc5d02-e94e-4373-9291-a6999650ba72"
      },
      "execution_count": 41,
      "outputs": [
        {
          "output_type": "stream",
          "name": "stdout",
          "text": [
            "[1121814.]\n"
          ]
        }
      ]
    },
    {
      "cell_type": "code",
      "source": [
        "max_clicks_purchase=data[clicks==421][:,10]\n",
        "print(max_clicks_purchase)"
      ],
      "metadata": {
        "colab": {
          "base_uri": "https://localhost:8080/"
        },
        "id": "62VtNejBD28D",
        "outputId": "99d981d9-8a26-4c52-c933-d844c12adacb"
      },
      "execution_count": 42,
      "outputs": [
        {
          "output_type": "stream",
          "name": "stdout",
          "text": [
            "[13.]\n"
          ]
        }
      ]
    },
    {
      "cell_type": "code",
      "source": [
        "if data[:,10].max() == max_clicks_purchase:\n",
        "  print('Yes')\n",
        "else:\n",
        "  print('No the maximun in the dataset is', data[:,10].max())"
      ],
      "metadata": {
        "colab": {
          "base_uri": "https://localhost:8080/"
        },
        "id": "cxCEtc6JEl4x",
        "outputId": "252eed77-ff12-4623-bf11-19478cd2dccc"
      },
      "execution_count": 57,
      "outputs": [
        {
          "output_type": "stream",
          "name": "stdout",
          "text": [
            "No the maximun in the dataset is 21.0\n"
          ]
        }
      ]
    },
    {
      "cell_type": "code",
      "source": [
        "approved_conversion=data[:,10]"
      ],
      "metadata": {
        "id": "j_qQHM6yIWv1"
      },
      "execution_count": 53,
      "outputs": []
    },
    {
      "cell_type": "code",
      "source": [
        "ad_id_product_having_max_purchases=data[approved_conversion==21][:,0]\n",
        "print(ad_id_product_having_max_purchases)"
      ],
      "metadata": {
        "colab": {
          "base_uri": "https://localhost:8080/"
        },
        "id": "sI1LVS6mHeW_",
        "outputId": "3ed27aad-7f8c-48c8-ab01-916ab2ff8460"
      },
      "execution_count": 54,
      "outputs": [
        {
          "output_type": "stream",
          "name": "stdout",
          "text": [
            "[1121104.]\n"
          ]
        }
      ]
    },
    {
      "cell_type": "code",
      "source": [
        "data_str[approved_conversion==21]"
      ],
      "metadata": {
        "colab": {
          "base_uri": "https://localhost:8080/"
        },
        "id": "KeS5OjtqJ78Q",
        "outputId": "1a607e7a-b458-469f-f0ac-b76cae7932e5"
      },
      "execution_count": 56,
      "outputs": [
        {
          "output_type": "execute_result",
          "data": {
            "text/plain": [
              "array([['1121104', '1178', '144533', '30-34', 'M', '16', '2080666',\n",
              "        '202', '360.1500015', '40', '21']], dtype='<U11')"
            ]
          },
          "metadata": {},
          "execution_count": 56
        }
      ]
    }
  ]
}